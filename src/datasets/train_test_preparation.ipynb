{
 "cells": [
  {
   "cell_type": "code",
   "execution_count": 1,
   "metadata": {},
   "outputs": [],
   "source": [
    "import os, json, re, random\n",
    "from torchvision.datasets import ImageFolder\n",
    "from itertools import chain\n",
    "from PIL import Image\n",
    "from torch.utils.data import Dataset, DataLoader"
   ]
  },
  {
   "attachments": {},
   "cell_type": "markdown",
   "metadata": {},
   "source": [
    "CUHK03"
   ]
  },
  {
   "cell_type": "code",
   "execution_count": null,
   "metadata": {},
   "outputs": [],
   "source": []
  },
  {
   "cell_type": "code",
   "execution_count": null,
   "metadata": {},
   "outputs": [],
   "source": [
    "import os\n",
    "import json\n",
    "from itertools import chain\n",
    "import re\n",
    "from torchvision.datasets import ImageFolder\n",
    "import random\n",
    "from torchvision import transforms as T\n",
    "from torch.utils.data import Dataset\n",
    "from PIL import Image"
   ]
  },
  {
   "cell_type": "code",
   "execution_count": null,
   "metadata": {},
   "outputs": [],
   "source": [
    "BASE_PATH = \"./i-LIDS-VID/images\""
   ]
  },
  {
   "cell_type": "code",
   "execution_count": null,
   "metadata": {},
   "outputs": [],
   "source": [
    "cam_list = os.listdir(BASE_PATH)"
   ]
  },
  {
   "cell_type": "code",
   "execution_count": null,
   "metadata": {},
   "outputs": [],
   "source": [
    "train = []\n",
    "test = []\n",
    "for cam in cam_list:\n",
    "    path = f\"{BASE_PATH}/{cam}\"\n",
    "    ids = os.listdir(path)\n",
    "    for person in ids:\n",
    "        person_id = re.findall(r\"\\d{1,}\", person)[0]\n",
    "        person_id = int(person_id)\n",
    "        person_path_per_cam = f\"{path}/{person}\"\n",
    "        file_list = os.listdir(person_path_per_cam)\n",
    "        tag = random.randint(0, 1)\n",
    "        ppath = list(map(lambda s: f\"{person_path_per_cam}/{s} {tag}\", file_list))\n",
    "        if person_id > 250:\n",
    "            test.append(ppath)\n",
    "        else:\n",
    "            train.append(ppath)"
   ]
  },
  {
   "cell_type": "code",
   "execution_count": null,
   "metadata": {},
   "outputs": [
    {
     "data": {
      "text/plain": [
       "[['./i-LIDS-VID/images/cam1/person255/cam1_person255.png 1'],\n",
       " ['./i-LIDS-VID/images/cam1/person277/cam1_person277.png 0'],\n",
       " ['./i-LIDS-VID/images/cam1/person299/cam1_person299.png 0'],\n",
       " ['./i-LIDS-VID/images/cam1/person251/cam1_person251.png 0'],\n",
       " ['./i-LIDS-VID/images/cam1/person252/cam1_person252.png 1'],\n",
       " ['./i-LIDS-VID/images/cam1/person253/cam1_person253.png 1'],\n",
       " ['./i-LIDS-VID/images/cam1/person254/cam1_person254.png 0'],\n",
       " ['./i-LIDS-VID/images/cam1/person256/cam1_person256.png 0'],\n",
       " ['./i-LIDS-VID/images/cam1/person257/cam1_person257.png 0'],\n",
       " ['./i-LIDS-VID/images/cam1/person258/cam1_person258.png 1'],\n",
       " ['./i-LIDS-VID/images/cam1/person259/cam1_person259.png 0'],\n",
       " ['./i-LIDS-VID/images/cam1/person260/cam1_person260.png 0'],\n",
       " ['./i-LIDS-VID/images/cam1/person261/cam1_person261.png 0'],\n",
       " ['./i-LIDS-VID/images/cam1/person262/cam1_person262.png 1'],\n",
       " ['./i-LIDS-VID/images/cam1/person264/cam1_person264.png 0'],\n",
       " ['./i-LIDS-VID/images/cam1/person265/cam1_person265.png 1'],\n",
       " ['./i-LIDS-VID/images/cam1/person266/cam1_person266.png 1'],\n",
       " ['./i-LIDS-VID/images/cam1/person268/cam1_person268.png 1'],\n",
       " ['./i-LIDS-VID/images/cam1/person269/cam1_person269.png 1'],\n",
       " ['./i-LIDS-VID/images/cam1/person270/cam1_person270.png 0'],\n",
       " ['./i-LIDS-VID/images/cam1/person271/cam1_person271.png 0'],\n",
       " ['./i-LIDS-VID/images/cam1/person272/cam1_person272.png 0'],\n",
       " ['./i-LIDS-VID/images/cam1/person273/cam1_person273.png 0'],\n",
       " ['./i-LIDS-VID/images/cam1/person274/cam1_person274.png 0'],\n",
       " ['./i-LIDS-VID/images/cam1/person275/cam1_person275.png 0'],\n",
       " ['./i-LIDS-VID/images/cam1/person276/cam1_person276.png 1'],\n",
       " ['./i-LIDS-VID/images/cam1/person278/cam1_person278.png 0'],\n",
       " ['./i-LIDS-VID/images/cam1/person279/cam1_person279.png 1'],\n",
       " ['./i-LIDS-VID/images/cam1/person280/cam1_person280.png 0'],\n",
       " ['./i-LIDS-VID/images/cam1/person281/cam1_person281.png 0'],\n",
       " ['./i-LIDS-VID/images/cam1/person282/cam1_person282.png 1'],\n",
       " ['./i-LIDS-VID/images/cam1/person283/cam1_person283.png 0'],\n",
       " ['./i-LIDS-VID/images/cam1/person284/cam1_person284.png 1'],\n",
       " ['./i-LIDS-VID/images/cam1/person285/cam1_person285.png 0'],\n",
       " ['./i-LIDS-VID/images/cam1/person286/cam1_person286.png 1'],\n",
       " ['./i-LIDS-VID/images/cam1/person287/cam1_person287.png 0'],\n",
       " ['./i-LIDS-VID/images/cam1/person288/cam1_person288.png 0'],\n",
       " ['./i-LIDS-VID/images/cam1/person289/cam1_person289.png 0'],\n",
       " ['./i-LIDS-VID/images/cam1/person290/cam1_person290.png 0'],\n",
       " ['./i-LIDS-VID/images/cam1/person293/cam1_person293.png 0'],\n",
       " ['./i-LIDS-VID/images/cam1/person294/cam1_person294.png 1'],\n",
       " ['./i-LIDS-VID/images/cam1/person295/cam1_person295.png 0'],\n",
       " ['./i-LIDS-VID/images/cam1/person296/cam1_person296.png 0'],\n",
       " ['./i-LIDS-VID/images/cam1/person297/cam1_person297.png 1'],\n",
       " ['./i-LIDS-VID/images/cam1/person298/cam1_person298.png 1'],\n",
       " ['./i-LIDS-VID/images/cam1/person300/cam1_person300.png 1'],\n",
       " ['./i-LIDS-VID/images/cam1/person301/cam1_person301.png 1'],\n",
       " ['./i-LIDS-VID/images/cam1/person302/cam1_person302.png 1'],\n",
       " ['./i-LIDS-VID/images/cam1/person303/cam1_person303.png 1'],\n",
       " ['./i-LIDS-VID/images/cam1/person304/cam1_person304.png 1'],\n",
       " ['./i-LIDS-VID/images/cam1/person305/cam1_person305.png 0'],\n",
       " ['./i-LIDS-VID/images/cam1/person306/cam1_person306.png 1'],\n",
       " ['./i-LIDS-VID/images/cam1/person307/cam1_person307.png 0'],\n",
       " ['./i-LIDS-VID/images/cam1/person308/cam1_person308.png 0'],\n",
       " ['./i-LIDS-VID/images/cam1/person309/cam1_person309.png 1'],\n",
       " ['./i-LIDS-VID/images/cam1/person310/cam1_person310.png 0'],\n",
       " ['./i-LIDS-VID/images/cam1/person311/cam1_person311.png 0'],\n",
       " ['./i-LIDS-VID/images/cam1/person312/cam1_person312.png 0'],\n",
       " ['./i-LIDS-VID/images/cam1/person313/cam1_person313.png 0'],\n",
       " ['./i-LIDS-VID/images/cam1/person314/cam1_person314.png 1'],\n",
       " ['./i-LIDS-VID/images/cam1/person315/cam1_person315.png 1'],\n",
       " ['./i-LIDS-VID/images/cam1/person316/cam1_person316.png 0'],\n",
       " ['./i-LIDS-VID/images/cam1/person317/cam1_person317.png 1'],\n",
       " ['./i-LIDS-VID/images/cam1/person318/cam1_person318.png 0'],\n",
       " ['./i-LIDS-VID/images/cam1/person319/cam1_person319.png 1'],\n",
       " ['./i-LIDS-VID/images/cam2/person255/cam2_person255.png 0'],\n",
       " ['./i-LIDS-VID/images/cam2/person277/cam2_person277.png 1'],\n",
       " ['./i-LIDS-VID/images/cam2/person299/cam2_person299.png 1'],\n",
       " ['./i-LIDS-VID/images/cam2/person251/cam2_person251.png 0'],\n",
       " ['./i-LIDS-VID/images/cam2/person252/cam2_person252.png 1'],\n",
       " ['./i-LIDS-VID/images/cam2/person253/cam2_person253.png 0'],\n",
       " ['./i-LIDS-VID/images/cam2/person254/cam2_person254.png 1'],\n",
       " ['./i-LIDS-VID/images/cam2/person256/cam2_person256.png 1'],\n",
       " ['./i-LIDS-VID/images/cam2/person257/cam2_person257.png 0'],\n",
       " ['./i-LIDS-VID/images/cam2/person258/cam2_person258.png 1'],\n",
       " ['./i-LIDS-VID/images/cam2/person259/cam2_person259.png 1'],\n",
       " ['./i-LIDS-VID/images/cam2/person260/cam2_person260.png 1'],\n",
       " ['./i-LIDS-VID/images/cam2/person261/cam2_person261.png 1'],\n",
       " ['./i-LIDS-VID/images/cam2/person262/cam2_person262.png 0'],\n",
       " ['./i-LIDS-VID/images/cam2/person264/cam2_person264.png 1'],\n",
       " ['./i-LIDS-VID/images/cam2/person265/cam2_person265.png 1'],\n",
       " ['./i-LIDS-VID/images/cam2/person266/cam2_person266.png 0'],\n",
       " ['./i-LIDS-VID/images/cam2/person268/cam2_person268.png 1'],\n",
       " ['./i-LIDS-VID/images/cam2/person269/cam2_person269.png 0'],\n",
       " ['./i-LIDS-VID/images/cam2/person270/cam2_person270.png 1'],\n",
       " ['./i-LIDS-VID/images/cam2/person271/cam2_person271.png 1'],\n",
       " ['./i-LIDS-VID/images/cam2/person272/cam2_person272.png 0'],\n",
       " ['./i-LIDS-VID/images/cam2/person273/cam2_person273.png 1'],\n",
       " ['./i-LIDS-VID/images/cam2/person274/cam2_person274.png 0'],\n",
       " ['./i-LIDS-VID/images/cam2/person275/cam2_person275.png 0'],\n",
       " ['./i-LIDS-VID/images/cam2/person276/cam2_person276.png 0'],\n",
       " ['./i-LIDS-VID/images/cam2/person278/cam2_person278.png 0'],\n",
       " ['./i-LIDS-VID/images/cam2/person279/cam2_person279.png 1'],\n",
       " ['./i-LIDS-VID/images/cam2/person280/cam2_person280.png 1'],\n",
       " ['./i-LIDS-VID/images/cam2/person281/cam2_person281.png 1'],\n",
       " ['./i-LIDS-VID/images/cam2/person282/cam2_person282.png 0'],\n",
       " ['./i-LIDS-VID/images/cam2/person283/cam2_person283.png 0'],\n",
       " ['./i-LIDS-VID/images/cam2/person284/cam2_person284.png 0'],\n",
       " ['./i-LIDS-VID/images/cam2/person285/cam2_person285.png 0'],\n",
       " ['./i-LIDS-VID/images/cam2/person286/cam2_person286.png 0'],\n",
       " ['./i-LIDS-VID/images/cam2/person287/cam2_person287.png 0'],\n",
       " ['./i-LIDS-VID/images/cam2/person288/cam2_person288.png 0'],\n",
       " ['./i-LIDS-VID/images/cam2/person289/cam2_person289.png 0'],\n",
       " ['./i-LIDS-VID/images/cam2/person290/cam2_person290.png 0'],\n",
       " ['./i-LIDS-VID/images/cam2/person293/cam2_person293.png 1'],\n",
       " ['./i-LIDS-VID/images/cam2/person294/cam2_person294.png 0'],\n",
       " ['./i-LIDS-VID/images/cam2/person295/cam2_person295.png 0'],\n",
       " ['./i-LIDS-VID/images/cam2/person296/cam2_person296.png 1'],\n",
       " ['./i-LIDS-VID/images/cam2/person297/cam2_person297.png 1'],\n",
       " ['./i-LIDS-VID/images/cam2/person298/cam2_person298.png 0'],\n",
       " ['./i-LIDS-VID/images/cam2/person300/cam2_person300.png 0'],\n",
       " ['./i-LIDS-VID/images/cam2/person301/cam2_person301.png 1'],\n",
       " ['./i-LIDS-VID/images/cam2/person302/cam2_person302.png 1'],\n",
       " ['./i-LIDS-VID/images/cam2/person303/cam2_person303.png 0'],\n",
       " ['./i-LIDS-VID/images/cam2/person304/cam2_person304.png 1'],\n",
       " ['./i-LIDS-VID/images/cam2/person305/cam2_person305.png 1'],\n",
       " ['./i-LIDS-VID/images/cam2/person306/cam2_person306.png 0'],\n",
       " ['./i-LIDS-VID/images/cam2/person307/cam2_person307.png 1'],\n",
       " ['./i-LIDS-VID/images/cam2/person308/cam2_person308.png 0'],\n",
       " ['./i-LIDS-VID/images/cam2/person309/cam2_person309.png 0'],\n",
       " ['./i-LIDS-VID/images/cam2/person310/cam2_person310.png 0'],\n",
       " ['./i-LIDS-VID/images/cam2/person311/cam2_person311.png 0'],\n",
       " ['./i-LIDS-VID/images/cam2/person312/cam2_person312.png 1'],\n",
       " ['./i-LIDS-VID/images/cam2/person313/cam2_person313.png 1'],\n",
       " ['./i-LIDS-VID/images/cam2/person314/cam2_person314.png 1'],\n",
       " ['./i-LIDS-VID/images/cam2/person315/cam2_person315.png 1'],\n",
       " ['./i-LIDS-VID/images/cam2/person316/cam2_person316.png 1'],\n",
       " ['./i-LIDS-VID/images/cam2/person317/cam2_person317.png 1'],\n",
       " ['./i-LIDS-VID/images/cam2/person318/cam2_person318.png 1'],\n",
       " ['./i-LIDS-VID/images/cam2/person319/cam2_person319.png 0']]"
      ]
     },
     "metadata": {},
     "output_type": "display_data"
    }
   ],
   "source": [
    "test"
   ]
  },
  {
   "cell_type": "code",
   "execution_count": null,
   "metadata": {},
   "outputs": [],
   "source": [
    "train = list(chain.from_iterable(train))"
   ]
  },
  {
   "cell_type": "code",
   "execution_count": null,
   "metadata": {},
   "outputs": [],
   "source": [
    "train = \"\\n\".join(train)"
   ]
  },
  {
   "cell_type": "code",
   "execution_count": null,
   "metadata": {},
   "outputs": [],
   "source": [
    "with open(\"data.txt\", \"w\") as f:\n",
    "    f.write(train)"
   ]
  },
  {
   "cell_type": "code",
   "execution_count": null,
   "metadata": {},
   "outputs": [],
   "source": [
    "image_folder = ImageFolder(\"./i-LIDS-VID/images/\")"
   ]
  },
  {
   "cell_type": "code",
   "execution_count": null,
   "metadata": {},
   "outputs": [
    {
     "data": {
      "text/plain": [
       "{'cam1': 0, 'cam2': 1}"
      ]
     },
     "metadata": {},
     "output_type": "display_data"
    }
   ],
   "source": [
    "image_folder.class_to_idx"
   ]
  },
  {
   "cell_type": "code",
   "execution_count": null,
   "metadata": {},
   "outputs": [],
   "source": [
    "class SampleData(Dataset):\n",
    "    def __init__(self, path: str) -> None:\n",
    "        super(SampleData, self).__init__()\n",
    "        self.path = path\n",
    "        self.data, self.targets = self.load_file()\n",
    "        \n",
    "    def load_file(self):\n",
    "        with open(\"./data.txt\") as f:\n",
    "            content = f.read()\n",
    "        content= content.split(\"\\n\")\n",
    "        content = list(map(lambda s: s.split(\" \"), content))\n",
    "        img_path = [c[0] for c in content]\n",
    "        img_tag = [int(c[1]) for c in content]\n",
    "        return img_path, img_tag\n",
    "    \n",
    "    def __len__(self):\n",
    "        return len(self.targets)\n",
    "\n",
    "    def __getitem__(self, index):\n",
    "        img_path = self.data[index]\n",
    "        target = self.targets[index]\n",
    "        img = Image.open(img_path)\n",
    "        tensor = T.ToTensor()(img)\n",
    "        return tensor, target"
   ]
  },
  {
   "cell_type": "code",
   "execution_count": null,
   "metadata": {},
   "outputs": [],
   "source": [
    "dataset = SampleData(\"./data.txt\")"
   ]
  }
 ],
 "metadata": {
  "kernelspec": {
   "display_name": "Torch",
   "language": "python",
   "name": "python3"
  },
  "language_info": {
   "codemirror_mode": {
    "name": "ipython",
    "version": 3
   },
   "file_extension": ".py",
   "mimetype": "text/x-python",
   "name": "python",
   "nbconvert_exporter": "python",
   "pygments_lexer": "ipython3",
   "version": "3.10.6"
  },
  "orig_nbformat": 4,
  "vscode": {
   "interpreter": {
    "hash": "652337b1b8f58db6e7c2875968e79a5da8c92204e00c444e233dbe9f02f9e13c"
   }
  }
 },
 "nbformat": 4,
 "nbformat_minor": 2
}
