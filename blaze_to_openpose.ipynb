{
 "cells": [
  {
   "cell_type": "code",
   "execution_count": 118,
   "metadata": {},
   "outputs": [],
   "source": [
    "import json\n",
    "import os\n",
    "from itertools import chain, product\n",
    "from typing import Callable, Dict, List, Tuple\n",
    "\n",
    "import numpy as np\n",
    "import torch\n",
    "\n",
    "from src.models.modules.shape_embedding import ShapeEmbedding"
   ]
  },
  {
   "cell_type": "code",
   "execution_count": 120,
   "metadata": {},
   "outputs": [],
   "source": [
    "datasets = os.listdir(\"./data/\")"
   ]
  },
  {
   "cell_type": "code",
   "execution_count": 122,
   "metadata": {},
   "outputs": [],
   "source": [
    "keypoints = {\n",
    "    \"NOSE\": [0],\n",
    "    \"LEFT_EYE\": [5],\n",
    "    \"RIGHT_EYE\": [5],\n",
    "    \"LEFT_EAR\": [8],\n",
    "    \"RIGHT_EAR\": [7],\n",
    "    \"CHEST\": [11, 12],\n",
    "    \"LEFT_SHOULDER\": [12],\n",
    "    \"RIGHT_SHOULDER\": [11],\n",
    "    \"LEFT_ELBOW\": [14],\n",
    "    \"RIGHT_ELBOW\": [13],\n",
    "    \"LEFT_HAND\": [16, 18, 20, 22],\n",
    "    \"RIGHT_HAND\": [15, 17, 19, 21],\n",
    "    \"LEFT_HIP\": [24],\n",
    "    \"RIGHT_HIP\": [23],\n",
    "    \"LEFT_KNEE\": [26],\n",
    "    \"RIGHT_KNEE\": [25],\n",
    "    \"LEFT_FOOT\": [28, 30, 32],\n",
    "    \"RIGHT_FOOT\": [27, 29, 31]\n",
    "}\n",
    "\n",
    "positions_map = dict(NOSE=0,\n",
    "                     CHEST=1,\n",
    "                     LEFT_SHOULDER=2,\n",
    "                     LEFT_ELBOW=3,\n",
    "                     LEFT_HAND=4,\n",
    "                     RIGHT_SHOULDER=5,\n",
    "                     RIGHT_ELBOW=6,\n",
    "                     RIGHT_HAND=7,\n",
    "                     LEFT_HIP=8,\n",
    "                     LEFT_KNEE=9,\n",
    "                     LEFT_FOOT=10,\n",
    "                     RIGHT_HIP=11,\n",
    "                     RIGHT_KNEE=12,\n",
    "                     RIGHT_FOOT=13,\n",
    "                     LEFT_EYE=14,\n",
    "                     RIGHT_EYE=15,\n",
    "                     LEFT_EAR=16,\n",
    "                     RIGHT_EAR=17)\n"
   ]
  },
  {
   "cell_type": "code",
   "execution_count": 124,
   "metadata": {},
   "outputs": [],
   "source": [
    "def get_features(pose: List[Dict]) -> torch.Tensor:\n",
    "    list_pose = list(map(lambda s: list(s.values()), pose))\n",
    "    return torch.Tensor(list_pose)\n",
    "\n",
    "\n",
    "def query_and_sort_in_position(pose: List) -> torch.Tensor:\n",
    "    out = {}\n",
    "    re_align_positions = []\n",
    "\n",
    "    for k, v in keypoints.items():\n",
    "        out[k] = pose[v].mean(dim=0)\n",
    "\n",
    "    for k in positions_map.keys():\n",
    "        re_align_positions.append(out[k].unsqueeze(0))\n",
    "    re_align_positions = torch.cat(re_align_positions)\n",
    "    return re_align_positions.numpy().tolist()\n",
    "\n",
    "\n",
    "def assign_new_data(s: Dict) -> Dict:\n",
    "    pose: List[List[Dict]] = s['pose_landmarks'][0]\n",
    "    pose_world: List[List[Dict]] = s['pose_world_landmarks']\n",
    "    pose = get_features(pose=pose)\n",
    "    pose = query_and_sort_in_position(pose=pose)\n",
    "    pose_world = get_features(pose=pose_world)\n",
    "    pose_world = query_and_sort_in_position(pose=pose_world)\n",
    "    s['pose_landmarks'] = pose\n",
    "    s['pose_world_landmarks'] = pose_world\n",
    "    return s"
   ]
  },
  {
   "cell_type": "code",
   "execution_count": 128,
   "metadata": {},
   "outputs": [
    {
     "name": "stdout",
     "output_type": "stream",
     "text": [
      "ltcc\n",
      "gallery.json\n",
      "ltcc\n",
      "train.json\n",
      "cuhk03\n",
      "train.json\n",
      "cuhk03\n",
      "test.json\n",
      "real28\n",
      "train.json\n",
      "real28\n",
      "test.json\n",
      "vc-clothes\n",
      "train.json\n",
      "vc-clothes\n",
      "test.json\n",
      "prcc\n",
      "gallery.json\n",
      "prcc\n",
      "query.json\n",
      "prcc\n",
      "train.json\n",
      "market1501\n",
      "gallery.json\n",
      "market1501\n",
      "query.json\n",
      "market1501\n",
      "train.json\n",
      "market1501\n",
      "test.json\n"
     ]
    }
   ],
   "source": [
    "for dataset in datasets:\n",
    "    for file in ['gallery.json', 'query.json', 'train.json', 'test.json']:\n",
    "        try:\n",
    "            with open(f\"./data/{dataset}/jsons/{file}\") as f:\n",
    "                content = json.load(f)\n",
    "                content = list(\n",
    "                    filter(lambda s: s.get(\"pose_landmarks\", None) is not None,\n",
    "                        content))\n",
    "                list(map(assign_new_data, content))\n",
    "            with open(f\"./data/{dataset}/jsons/{file}\", \"w\") as f:\n",
    "                json.dump(obj=content, fp=f, indent=2, ensure_ascii=False)\n",
    "        except:\n",
    "            print(dataset)\n",
    "            print(file)"
   ]
  },
  {
   "cell_type": "code",
   "execution_count": null,
   "metadata": {},
   "outputs": [],
   "source": []
  }
 ],
 "metadata": {
  "kernelspec": {
   "display_name": "base",
   "language": "python",
   "name": "python3"
  },
  "language_info": {
   "codemirror_mode": {
    "name": "ipython",
    "version": 3
   },
   "file_extension": ".py",
   "mimetype": "text/x-python",
   "name": "python",
   "nbconvert_exporter": "python",
   "pygments_lexer": "ipython3",
   "version": "3.10.8"
  },
  "orig_nbformat": 4
 },
 "nbformat": 4,
 "nbformat_minor": 2
}
